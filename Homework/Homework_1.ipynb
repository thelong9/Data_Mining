{
  "cells": [
    {
      "cell_type": "markdown",
      "source": [
        "# Exercise 1"
      ],
      "metadata": {
        "id": "iF4wbJ5vYOv1"
      }
    },
    {
      "cell_type": "code",
      "source": [
        "import pandas as pd\n",
        "from matplotlib import pyplot as plt\n",
        "import seaborn as sns\n",
        "import numpy as np"
      ],
      "metadata": {
        "id": "psD770wi4tGE"
      },
      "execution_count": 141,
      "outputs": []
    },
    {
      "cell_type": "code",
      "execution_count": 101,
      "metadata": {
        "id": "XsRg8YSA2TIQ"
      },
      "outputs": [],
      "source": [
        "data_pb1 = [13, 15, 16, 16, 19, 20, 20, 21, 22, 22, 25, 25, 25,  25, 30, 33, 33, 35, 35, 35, 35, 36, 40, 45, 46, 52, 70]\n",
        "\n",
        "age_df1 = pd.DataFrame(data=data_pb1, columns=['age'])\n"
      ]
    },
    {
      "cell_type": "markdown",
      "source": [
        "# Mean & Median"
      ],
      "metadata": {
        "id": "MbfLm1CnXJip"
      }
    },
    {
      "cell_type": "code",
      "source": [
        "mean_age1 = age_df1['age'].astype(float).mean()\n",
        "mean_age1"
      ],
      "metadata": {
        "colab": {
          "base_uri": "https://localhost:8080/"
        },
        "id": "5XozYDWR26js",
        "outputId": "c49d4a2d-519e-4d7d-f007-5b1dbb8853c9"
      },
      "execution_count": 102,
      "outputs": [
        {
          "output_type": "execute_result",
          "data": {
            "text/plain": [
              "29.962962962962962"
            ]
          },
          "metadata": {},
          "execution_count": 102
        }
      ]
    },
    {
      "cell_type": "code",
      "source": [
        "median_age1 = age_df1['age'].astype(float).median()\n",
        "median_age1"
      ],
      "metadata": {
        "colab": {
          "base_uri": "https://localhost:8080/"
        },
        "id": "UEpRJA2VQGVW",
        "outputId": "f92c29a2-a372-44f9-f3fb-5ff40988075f"
      },
      "execution_count": 103,
      "outputs": [
        {
          "output_type": "execute_result",
          "data": {
            "text/plain": [
              "25.0"
            ]
          },
          "metadata": {},
          "execution_count": 103
        }
      ]
    },
    {
      "cell_type": "markdown",
      "source": [
        "# Mode of data"
      ],
      "metadata": {
        "id": "iG4p2bsNQ6T_"
      }
    },
    {
      "cell_type": "code",
      "source": [
        "mode_age1 = age_df1['age'].mode()\n",
        "mode_age1\n"
      ],
      "metadata": {
        "colab": {
          "base_uri": "https://localhost:8080/",
          "height": 147
        },
        "id": "bVi-RcCUQg8A",
        "outputId": "021d9736-3647-4a8e-813c-ead77a45ce34"
      },
      "execution_count": 104,
      "outputs": [
        {
          "output_type": "execute_result",
          "data": {
            "text/plain": [
              "0    25\n",
              "1    35\n",
              "Name: age, dtype: int64"
            ],
            "text/html": [
              "<div>\n",
              "<style scoped>\n",
              "    .dataframe tbody tr th:only-of-type {\n",
              "        vertical-align: middle;\n",
              "    }\n",
              "\n",
              "    .dataframe tbody tr th {\n",
              "        vertical-align: top;\n",
              "    }\n",
              "\n",
              "    .dataframe thead th {\n",
              "        text-align: right;\n",
              "    }\n",
              "</style>\n",
              "<table border=\"1\" class=\"dataframe\">\n",
              "  <thead>\n",
              "    <tr style=\"text-align: right;\">\n",
              "      <th></th>\n",
              "      <th>age</th>\n",
              "    </tr>\n",
              "  </thead>\n",
              "  <tbody>\n",
              "    <tr>\n",
              "      <th>0</th>\n",
              "      <td>25</td>\n",
              "    </tr>\n",
              "    <tr>\n",
              "      <th>1</th>\n",
              "      <td>35</td>\n",
              "    </tr>\n",
              "  </tbody>\n",
              "</table>\n",
              "</div><br><label><b>dtype:</b> int64</label>"
            ]
          },
          "metadata": {},
          "execution_count": 104
        }
      ]
    },
    {
      "cell_type": "markdown",
      "source": [
        "Bimodal\n"
      ],
      "metadata": {
        "id": "VXCsJepbRD8F"
      }
    },
    {
      "cell_type": "markdown",
      "source": [
        "# Calculating Midrange\n"
      ],
      "metadata": {
        "id": "hMiBo3TYXeA0"
      }
    },
    {
      "cell_type": "code",
      "source": [
        "min_age1 = age_df1['age'].min()\n",
        "max_age1 = age_df1['age'].max()\n",
        "min_age1, max_age1"
      ],
      "metadata": {
        "colab": {
          "base_uri": "https://localhost:8080/"
        },
        "id": "mD2JfwEWRQT2",
        "outputId": "d9984939-6b2e-4f0a-d38c-5f0a5d755d65"
      },
      "execution_count": 105,
      "outputs": [
        {
          "output_type": "execute_result",
          "data": {
            "text/plain": [
              "(13, 70)"
            ]
          },
          "metadata": {},
          "execution_count": 105
        }
      ]
    },
    {
      "cell_type": "code",
      "source": [
        "mid_age1 = (min_age1 + max_age1) / 2\n",
        "print(f'Midrange: {mid_age1}')"
      ],
      "metadata": {
        "colab": {
          "base_uri": "https://localhost:8080/"
        },
        "id": "2ghbsfCTR6gh",
        "outputId": "5d2f01cf-1fe8-4e00-e894-358c0c07b413"
      },
      "execution_count": 106,
      "outputs": [
        {
          "output_type": "stream",
          "name": "stdout",
          "text": [
            "Midrange: 41.5\n"
          ]
        }
      ]
    },
    {
      "cell_type": "markdown",
      "source": [
        "# Calculating Quantile"
      ],
      "metadata": {
        "id": "CwF4HfpqXNY8"
      }
    },
    {
      "cell_type": "code",
      "source": [
        "Q1_1 = age_df1['age'].quantile(0.25)\n",
        "Q2_1 = age_df1['age'].quantile(0.5)\n",
        "Q3_1 = age_df1['age'].quantile(0.75)\n",
        "\n",
        "print(f'Q1: {Q1_1}')\n",
        "print(f'Q2: {Q2_1}')\n",
        "print(f'Q3: {Q3_1}')"
      ],
      "metadata": {
        "colab": {
          "base_uri": "https://localhost:8080/"
        },
        "id": "52k9SbQPSzK3",
        "outputId": "366ce7a6-d2b5-4cc4-e1bf-d35c900c0045"
      },
      "execution_count": 107,
      "outputs": [
        {
          "output_type": "stream",
          "name": "stdout",
          "text": [
            "Q1: 20.5\n",
            "Q2: 25.0\n",
            "Q3: 35.0\n"
          ]
        }
      ]
    },
    {
      "cell_type": "code",
      "source": [
        "data_describe1 = age_df1['age'].describe()\n",
        "data_describe1"
      ],
      "metadata": {
        "colab": {
          "base_uri": "https://localhost:8080/",
          "height": 335
        },
        "id": "dth7al1eR_pg",
        "outputId": "e89e99b5-ea78-4ef3-918d-e9e6b1a696ff"
      },
      "execution_count": 108,
      "outputs": [
        {
          "output_type": "execute_result",
          "data": {
            "text/plain": [
              "count    27.000000\n",
              "mean     29.962963\n",
              "std      12.942124\n",
              "min      13.000000\n",
              "25%      20.500000\n",
              "50%      25.000000\n",
              "75%      35.000000\n",
              "max      70.000000\n",
              "Name: age, dtype: float64"
            ],
            "text/html": [
              "<div>\n",
              "<style scoped>\n",
              "    .dataframe tbody tr th:only-of-type {\n",
              "        vertical-align: middle;\n",
              "    }\n",
              "\n",
              "    .dataframe tbody tr th {\n",
              "        vertical-align: top;\n",
              "    }\n",
              "\n",
              "    .dataframe thead th {\n",
              "        text-align: right;\n",
              "    }\n",
              "</style>\n",
              "<table border=\"1\" class=\"dataframe\">\n",
              "  <thead>\n",
              "    <tr style=\"text-align: right;\">\n",
              "      <th></th>\n",
              "      <th>age</th>\n",
              "    </tr>\n",
              "  </thead>\n",
              "  <tbody>\n",
              "    <tr>\n",
              "      <th>count</th>\n",
              "      <td>27.000000</td>\n",
              "    </tr>\n",
              "    <tr>\n",
              "      <th>mean</th>\n",
              "      <td>29.962963</td>\n",
              "    </tr>\n",
              "    <tr>\n",
              "      <th>std</th>\n",
              "      <td>12.942124</td>\n",
              "    </tr>\n",
              "    <tr>\n",
              "      <th>min</th>\n",
              "      <td>13.000000</td>\n",
              "    </tr>\n",
              "    <tr>\n",
              "      <th>25%</th>\n",
              "      <td>20.500000</td>\n",
              "    </tr>\n",
              "    <tr>\n",
              "      <th>50%</th>\n",
              "      <td>25.000000</td>\n",
              "    </tr>\n",
              "    <tr>\n",
              "      <th>75%</th>\n",
              "      <td>35.000000</td>\n",
              "    </tr>\n",
              "    <tr>\n",
              "      <th>max</th>\n",
              "      <td>70.000000</td>\n",
              "    </tr>\n",
              "  </tbody>\n",
              "</table>\n",
              "</div><br><label><b>dtype:</b> float64</label>"
            ]
          },
          "metadata": {},
          "execution_count": 108
        }
      ]
    },
    {
      "cell_type": "markdown",
      "source": [
        "# Box Plot for Data"
      ],
      "metadata": {
        "id": "ehb5ziCJXDt7"
      }
    },
    {
      "cell_type": "code",
      "source": [
        "plt.boxplot(age_df1['age'])\n",
        "plt.ylabel(\"Age\")\n",
        "plt.text(1.2, Q1_1+1, f\"Q1 = {Q1_1}\", ha='center', va='top', color='red')\n",
        "plt.text(1.2, Q2_1+1, f\"Q2 = {Q2_1}\", ha='center', va='top', color='blue')\n",
        "plt.text(1.2, Q3_1+1, f\"Q3 = {Q3_1}\", ha='center', va='top', color='green')\n",
        "plt.show()\n",
        "\n"
      ],
      "metadata": {
        "colab": {
          "base_uri": "https://localhost:8080/",
          "height": 430
        },
        "id": "xDeieJ0qTnzO",
        "outputId": "dc683655-9d73-45db-dfed-5111e53d246a"
      },
      "execution_count": 109,
      "outputs": [
        {
          "output_type": "display_data",
          "data": {
            "text/plain": [
              "<Figure size 640x480 with 1 Axes>"
            ],
            "image/png": "[encoded data removed]"
          },
          "metadata": {}
        }
      ]
    },
    {
      "cell_type": "markdown",
      "source": [
        "# Varience & Standard Deviation"
      ],
      "metadata": {
        "id": "J-tN1NIZXjA7"
      }
    },
    {
      "cell_type": "code",
      "source": [
        "#Calculating Varience\n",
        "varience_age = age_df1['age'].var()\n",
        "varience_age"
      ],
      "metadata": {
        "colab": {
          "base_uri": "https://localhost:8080/"
        },
        "id": "OihcPJmRTrOH",
        "outputId": "244f1c29-3fab-4493-e17c-1b94a9498367"
      },
      "execution_count": 110,
      "outputs": [
        {
          "output_type": "execute_result",
          "data": {
            "text/plain": [
              "167.4985754985755"
            ]
          },
          "metadata": {},
          "execution_count": 110
        }
      ]
    },
    {
      "cell_type": "code",
      "source": [
        "SD_age = age_df1['age'].std()\n",
        "SD_age"
      ],
      "metadata": {
        "colab": {
          "base_uri": "https://localhost:8080/"
        },
        "id": "UBk4KvcxYBCx",
        "outputId": "1af28603-5d61-4785-c854-d5928b948a4d"
      },
      "execution_count": 111,
      "outputs": [
        {
          "output_type": "execute_result",
          "data": {
            "text/plain": [
              "12.942124072136517"
            ]
          },
          "metadata": {},
          "execution_count": 111
        }
      ]
    },
    {
      "cell_type": "markdown",
      "source": [
        "# Exercise 2"
      ],
      "metadata": {
        "id": "EOklSkJNYT-7"
      }
    },
    {
      "cell_type": "code",
      "source": [
        "age_data = [23, 23, 27, 27, 39, 41, 47, 49, 50, 52, 54, 54, 56, 57, 58, 58, 60, 61]"
      ],
      "metadata": {
        "id": "JSBPz5g_YVxX"
      },
      "execution_count": 112,
      "outputs": []
    },
    {
      "cell_type": "code",
      "source": [
        "percentage_fat_data = [9.5, 26.5, 7.8, 17.8, 31.4, 25.9, 27.4, 27.2, 34.2, 34.6, 42.5, 28.8, 33.4, 30.2, 34.1, 32.9, 41.2, 35.7]"
      ],
      "metadata": {
        "id": "fvwAPtZSY3BM"
      },
      "execution_count": 113,
      "outputs": []
    },
    {
      "cell_type": "markdown",
      "source": [
        "# Mean, Median, Variance, and Standard deviation of Age and %fat."
      ],
      "metadata": {
        "id": "-v810a5uZirc"
      }
    },
    {
      "cell_type": "code",
      "source": [
        "data_df2 = pd.DataFrame({'age': age_data, '%fat': percentage_fat_data})"
      ],
      "metadata": {
        "id": "FGjbzb-hZc-l"
      },
      "execution_count": 114,
      "outputs": []
    },
    {
      "cell_type": "code",
      "source": [
        "data_df2"
      ],
      "metadata": {
        "colab": {
          "base_uri": "https://localhost:8080/",
          "height": 614
        },
        "id": "Q_7sDH_YZ5jG",
        "outputId": "1727b306-9b3a-423b-eb17-6eb51cedea40"
      },
      "execution_count": 115,
      "outputs": [
        {
          "output_type": "execute_result",
          "data": {
            "text/plain": [
              "    age  %fat\n",
              "0    23   9.5\n",
              "1    23  26.5\n",
              "2    27   7.8\n",
              "3    27  17.8\n",
              "4    39  31.4\n",
              "5    41  25.9\n",
              "6    47  27.4\n",
              "7    49  27.2\n",
              "8    50  34.2\n",
              "9    52  34.6\n",
              "10   54  42.5\n",
              "11   54  28.8\n",
              "12   56  33.4\n",
              "13   57  30.2\n",
              "14   58  34.1\n",
              "15   58  32.9\n",
              "16   60  41.2\n",
              "17   61  35.7"
            ],
            "text/html": [
              "\n",
              "  <div id=\"df-8b640ffd-0359-4952-b00d-1289071cd99b\" class=\"colab-df-container\">\n",
              "    <div>\n",
              "<style scoped>\n",
              "    .dataframe tbody tr th:only-of-type {\n",
              "        vertical-align: middle;\n",
              "    }\n",
              "\n",
              "    .dataframe tbody tr th {\n",
              "        vertical-align: top;\n",
              "    }\n",
              "\n",
              "    .dataframe thead th {\n",
              "        text-align: right;\n",
              "    }\n",
              "</style>\n",
              "<table border=\"1\" class=\"dataframe\">\n",
              "  <thead>\n",
              "    <tr style=\"text-align: right;\">\n",
              "      <th></th>\n",
              "      <th>age</th>\n",
              "      <th>%fat</th>\n",
              "    </tr>\n",
              "  </thead>\n",
              "  <tbody>\n",
              "    <tr>\n",
              "      <th>0</th>\n",
              "      <td>23</td>\n",
              "      <td>9.5</td>\n",
              "    </tr>\n",
              "    <tr>\n",
              "      <th>1</th>\n",
              "      <td>23</td>\n",
              "      <td>26.5</td>\n",
              "    </tr>\n",
              "    <tr>\n",
              "      <th>2</th>\n",
              "      <td>27</td>\n",
              "      <td>7.8</td>\n",
              "    </tr>\n",
              "    <tr>\n",
              "      <th>3</th>\n",
              "      <td>27</td>\n",
              "      <td>17.8</td>\n",
              "    </tr>\n",
              "    <tr>\n",
              "      <th>4</th>\n",
              "      <td>39</td>\n",
              "      <td>31.4</td>\n",
              "    </tr>\n",
              "    <tr>\n",
              "      <th>5</th>\n",
              "      <td>41</td>\n",
              "      <td>25.9</td>\n",
              "    </tr>\n",
              "    <tr>\n",
              "      <th>6</th>\n",
              "      <td>47</td>\n",
              "      <td>27.4</td>\n",
              "    </tr>\n",
              "    <tr>\n",
              "      <th>7</th>\n",
              "      <td>49</td>\n",
              "      <td>27.2</td>\n",
              "    </tr>\n",
              "    <tr>\n",
              "      <th>8</th>\n",
              "      <td>50</td>\n",
              "      <td>34.2</td>\n",
              "    </tr>\n",
              "    <tr>\n",
              "      <th>9</th>\n",
              "      <td>52</td>\n",
              "      <td>34.6</td>\n",
              "    </tr>\n",
              "    <tr>\n",
              "      <th>10</th>\n",
              "      <td>54</td>\n",
              "      <td>42.5</td>\n",
              "    </tr>\n",
              "    <tr>\n",
              "      <th>11</th>\n",
              "      <td>54</td>\n",
              "      <td>28.8</td>\n",
              "    </tr>\n",
              "    <tr>\n",
              "      <th>12</th>\n",
              "      <td>56</td>\n",
              "      <td>33.4</td>\n",
              "    </tr>\n",
              "    <tr>\n",
              "      <th>13</th>\n",
              "      <td>57</td>\n",
              "      <td>30.2</td>\n",
              "    </tr>\n",
              "    <tr>\n",
              "      <th>14</th>\n",
              "      <td>58</td>\n",
              "      <td>34.1</td>\n",
              "    </tr>\n",
              "    <tr>\n",
              "      <th>15</th>\n",
              "      <td>58</td>\n",
              "      <td>32.9</td>\n",
              "    </tr>\n",
              "    <tr>\n",
              "      <th>16</th>\n",
              "      <td>60</td>\n",
              "      <td>41.2</td>\n",
              "    </tr>\n",
              "    <tr>\n",
              "      <th>17</th>\n",
              "      <td>61</td>\n",
              "      <td>35.7</td>\n",
              "    </tr>\n",
              "  </tbody>\n",
              "</table>\n",
              "</div>\n",
              "    <div class=\"colab-df-buttons\">\n",
              "\n",
              "  <div class=\"colab-df-container\">\n",
              "    <button class=\"colab-df-convert\" onclick=\"convertToInteractive('df-8b640ffd-0359-4952-b00d-1289071cd99b')\"\n",
              "            title=\"Convert this dataframe to an interactive table.\"\n",
              "            style=\"display:none;\">\n",
              "\n",
              "  <svg xmlns=\"http://www.w3.org/2000/svg\" height=\"24px\" viewBox=\"0 -960 960 960\">\n",
              "    <path d=\"M120-120v-720h720v720H120Zm60-500h600v-160H180v160Zm220 220h160v-160H400v160Zm0 220h160v-160H400v160ZM180-400h160v-160H180v160Zm440 0h160v-160H620v160ZM180-180h160v-160H180v160Zm440 0h160v-160H620v160Z\"/>\n",
              "  </svg>\n",
              "    </button>\n",
              "\n",
              "  <style>\n",
              "    .colab-df-container {\n",
              "      display:flex;\n",
              "      gap: 12px;\n",
              "    }\n",
              "\n",
              "    .colab-df-convert {\n",
              "      background-color: #E8F0FE;\n",
              "      border: none;\n",
              "      border-radius: 50%;\n",
              "      cursor: pointer;\n",
              "      display: none;\n",
              "      fill: #1967D2;\n",
              "      height: 32px;\n",
              "      padding: 0 0 0 0;\n",
              "      width: 32px;\n",
              "    }\n",
              "\n",
              "    .colab-df-convert:hover {\n",
              "      background-color: #E2EBFA;\n",
              "      box-shadow: 0px 1px 2px rgba(60, 64, 67, 0.3), 0px 1px 3px 1px rgba(60, 64, 67, 0.15);\n",
              "      fill: #174EA6;\n",
              "    }\n",
              "\n",
              "    .colab-df-buttons div {\n",
              "      margin-bottom: 4px;\n",
              "    }\n",
              "\n",
              "    [theme=dark] .colab-df-convert {\n",
              "      background-color: #3B4455;\n",
              "      fill: #D2E3FC;\n",
              "    }\n",
              "\n",
              "    [theme=dark] .colab-df-convert:hover {\n",
              "      background-color: #434B5C;\n",
              "      box-shadow: 0px 1px 3px 1px rgba(0, 0, 0, 0.15);\n",
              "      filter: drop-shadow(0px 1px 2px rgba(0, 0, 0, 0.3));\n",
              "      fill: #FFFFFF;\n",
              "    }\n",
              "  </style>\n",
              "\n",
              "    <script>\n",
              "      const buttonEl =\n",
              "        document.querySelector('#df-8b640ffd-0359-4952-b00d-1289071cd99b button.colab-df-convert');\n",
              "      buttonEl.style.display =\n",
              "        google.colab.kernel.accessAllowed ? 'block' : 'none';\n",
              "\n",
              "      async function convertToInteractive(key) {\n",
              "        const element = document.querySelector('#df-8b640ffd-0359-4952-b00d-1289071cd99b');\n",
              "        const dataTable =\n",
              "          await google.colab.kernel.invokeFunction('convertToInteractive',\n",
              "                                                    [key], {});\n",
              "        if (!dataTable) return;\n",
              "\n",
              "        const docLinkHtml = 'Like what you see? Visit the ' +\n",
              "          '<a target=\"_blank\" href=https://colab.research.google.com/notebooks/data_table.ipynb>data table notebook</a>'\n",
              "          + ' to learn more about interactive tables.';\n",
              "        element.innerHTML = '';\n",
              "        dataTable['output_type'] = 'display_data';\n",
              "        await google.colab.output.renderOutput(dataTable, element);\n",
              "        const docLink = document.createElement('div');\n",
              "        docLink.innerHTML = docLinkHtml;\n",
              "        element.appendChild(docLink);\n",
              "      }\n",
              "    </script>\n",
              "  </div>\n",
              "\n",
              "\n",
              "<div id=\"df-ccd33c53-88c8-4f0d-8e55-5bc815ad64bb\">\n",
              "  <button class=\"colab-df-quickchart\" onclick=\"quickchart('df-ccd33c53-88c8-4f0d-8e55-5bc815ad64bb')\"\n",
              "            title=\"Suggest charts\"\n",
              "            style=\"display:none;\">\n",
              "\n",
              "<svg xmlns=\"http://www.w3.org/2000/svg\" height=\"24px\"viewBox=\"0 0 24 24\"\n",
              "     width=\"24px\">\n",
              "    <g>\n",
              "        <path d=\"M19 3H5c-1.1 0-2 .9-2 2v14c0 1.1.9 2 2 2h14c1.1 0 2-.9 2-2V5c0-1.1-.9-2-2-2zM9 17H7v-7h2v7zm4 0h-2V7h2v10zm4 0h-2v-4h2v4z\"/>\n",
              "    </g>\n",
              "</svg>\n",
              "  </button>\n",
              "\n",
              "<style>\n",
              "  .colab-df-quickchart {\n",
              "      --bg-color: #E8F0FE;\n",
              "      --fill-color: #1967D2;\n",
              "      --hover-bg-color: #E2EBFA;\n",
              "      --hover-fill-color: #174EA6;\n",
              "      --disabled-fill-color: #AAA;\n",
              "      --disabled-bg-color: #DDD;\n",
              "  }\n",
              "\n",
              "  [theme=dark] .colab-df-quickchart {\n",
              "      --bg-color: #3B4455;\n",
              "      --fill-color: #D2E3FC;\n",
              "      --hover-bg-color: #434B5C;\n",
              "      --hover-fill-color: #FFFFFF;\n",
              "      --disabled-bg-color: #3B4455;\n",
              "      --disabled-fill-color: #666;\n",
              "  }\n",
              "\n",
              "  .colab-df-quickchart {\n",
              "    background-color: var(--bg-color);\n",
              "    border: none;\n",
              "    border-radius: 50%;\n",
              "    cursor: pointer;\n",
              "    display: none;\n",
              "    fill: var(--fill-color);\n",
              "    height: 32px;\n",
              "    padding: 0;\n",
              "    width: 32px;\n",
              "  }\n",
              "\n",
              "  .colab-df-quickchart:hover {\n",
              "    background-color: var(--hover-bg-color);\n",
              "    box-shadow: 0 1px 2px rgba(60, 64, 67, 0.3), 0 1px 3px 1px rgba(60, 64, 67, 0.15);\n",
              "    fill: var(--button-hover-fill-color);\n",
              "  }\n",
              "\n",
              "  .colab-df-quickchart-complete:disabled,\n",
              "  .colab-df-quickchart-complete:disabled:hover {\n",
              "    background-color: var(--disabled-bg-color);\n",
              "    fill: var(--disabled-fill-color);\n",
              "    box-shadow: none;\n",
              "  }\n",
              "\n",
              "  .colab-df-spinner {\n",
              "    border: 2px solid var(--fill-color);\n",
              "    border-color: transparent;\n",
              "    border-bottom-color: var(--fill-color);\n",
              "    animation:\n",
              "      spin 1s steps(1) infinite;\n",
              "  }\n",
              "\n",
              "  @keyframes spin {\n",
              "    0% {\n",
              "      border-color: transparent;\n",
              "      border-bottom-color: var(--fill-color);\n",
              "      border-left-color: var(--fill-color);\n",
              "    }\n",
              "    20% {\n",
              "      border-color: transparent;\n",
              "      border-left-color: var(--fill-color);\n",
              "      border-top-color: var(--fill-color);\n",
              "    }\n",
              "    30% {\n",
              "      border-color: transparent;\n",
              "      border-left-color: var(--fill-color);\n",
              "      border-top-color: var(--fill-color);\n",
              "      border-right-color: var(--fill-color);\n",
              "    }\n",
              "    40% {\n",
              "      border-color: transparent;\n",
              "      border-right-color: var(--fill-color);\n",
              "      border-top-color: var(--fill-color);\n",
              "    }\n",
              "    60% {\n",
              "      border-color: transparent;\n",
              "      border-right-color: var(--fill-color);\n",
              "    }\n",
              "    80% {\n",
              "      border-color: transparent;\n",
              "      border-right-color: var(--fill-color);\n",
              "      border-bottom-color: var(--fill-color);\n",
              "    }\n",
              "    90% {\n",
              "      border-color: transparent;\n",
              "      border-bottom-color: var(--fill-color);\n",
              "    }\n",
              "  }\n",
              "</style>\n",
              "\n",
              "  <script>\n",
              "    async function quickchart(key) {\n",
              "      const quickchartButtonEl =\n",
              "        document.querySelector('#' + key + ' button');\n",
              "      quickchartButtonEl.disabled = true;  // To prevent multiple clicks.\n",
              "      quickchartButtonEl.classList.add('colab-df-spinner');\n",
              "      try {\n",
              "        const charts = await google.colab.kernel.invokeFunction(\n",
              "            'suggestCharts', [key], {});\n",
              "      } catch (error) {\n",
              "        console.error('Error during call to suggestCharts:', error);\n",
              "      }\n",
              "      quickchartButtonEl.classList.remove('colab-df-spinner');\n",
              "      quickchartButtonEl.classList.add('colab-df-quickchart-complete');\n",
              "    }\n",
              "    (() => {\n",
              "      let quickchartButtonEl =\n",
              "        document.querySelector('#df-ccd33c53-88c8-4f0d-8e55-5bc815ad64bb button');\n",
              "      quickchartButtonEl.style.display =\n",
              "        google.colab.kernel.accessAllowed ? 'block' : 'none';\n",
              "    })();\n",
              "  </script>\n",
              "</div>\n",
              "\n",
              "  <div id=\"id_f0de0133-3945-4c3b-b6a2-d44335e0f00e\">\n",
              "    <style>\n",
              "      .colab-df-generate {\n",
              "        background-color: #E8F0FE;\n",
              "        border: none;\n",
              "        border-radius: 50%;\n",
              "        cursor: pointer;\n",
              "        display: none;\n",
              "        fill: #1967D2;\n",
              "        height: 32px;\n",
              "        padding: 0 0 0 0;\n",
              "        width: 32px;\n",
              "      }\n",
              "\n",
              "      .colab-df-generate:hover {\n",
              "        background-color: #E2EBFA;\n",
              "        box-shadow: 0px 1px 2px rgba(60, 64, 67, 0.3), 0px 1px 3px 1px rgba(60, 64, 67, 0.15);\n",
              "        fill: #174EA6;\n",
              "      }\n",
              "\n",
              "      [theme=dark] .colab-df-generate {\n",
              "        background-color: #3B4455;\n",
              "        fill: #D2E3FC;\n",
              "      }\n",
              "\n",
              "      [theme=dark] .colab-df-generate:hover {\n",
              "        background-color: #434B5C;\n",
              "        box-shadow: 0px 1px 3px 1px rgba(0, 0, 0, 0.15);\n",
              "        filter: drop-shadow(0px 1px 2px rgba(0, 0, 0, 0.3));\n",
              "        fill: #FFFFFF;\n",
              "      }\n",
              "    </style>\n",
              "    <button class=\"colab-df-generate\" onclick=\"generateWithVariable('data_df2')\"\n",
              "            title=\"Generate code using this dataframe.\"\n",
              "            style=\"display:none;\">\n",
              "\n",
              "  <svg xmlns=\"http://www.w3.org/2000/svg\" height=\"24px\"viewBox=\"0 0 24 24\"\n",
              "       width=\"24px\">\n",
              "    <path d=\"M7,19H8.4L18.45,9,17,7.55,7,17.6ZM5,21V16.75L18.45,3.32a2,2,0,0,1,2.83,0l1.4,1.43a1.91,1.91,0,0,1,.58,1.4,1.91,1.91,0,0,1-.58,1.4L9.25,21ZM18.45,9,17,7.55Zm-12,3A5.31,5.31,0,0,0,4.9,8.1,5.31,5.31,0,0,0,1,6.5,5.31,5.31,0,0,0,4.9,4.9,5.31,5.31,0,0,0,6.5,1,5.31,5.31,0,0,0,8.1,4.9,5.31,5.31,0,0,0,12,6.5,5.46,5.46,0,0,0,6.5,12Z\"/>\n",
              "  </svg>\n",
              "    </button>\n",
              "    <script>\n",
              "      (() => {\n",
              "      const buttonEl =\n",
              "        document.querySelector('#id_f0de0133-3945-4c3b-b6a2-d44335e0f00e button.colab-df-generate');\n",
              "      buttonEl.style.display =\n",
              "        google.colab.kernel.accessAllowed ? 'block' : 'none';\n",
              "\n",
              "      buttonEl.onclick = () => {\n",
              "        google.colab.notebook.generateWithVariable('data_df2');\n",
              "      }\n",
              "      })();\n",
              "    </script>\n",
              "  </div>\n",
              "\n",
              "    </div>\n",
              "  </div>\n"
            ],
            "application/vnd.google.colaboratory.intrinsic+json": {
              "type": "dataframe",
              "variable_name": "data_df2",
              "summary": "{\n  \"name\": \"data_df2\",\n  \"rows\": 18,\n  \"fields\": [\n    {\n      \"column\": \"age\",\n      \"properties\": {\n        \"dtype\": \"number\",\n        \"std\": 13,\n        \"min\": 23,\n        \"max\": 61,\n        \"num_unique_values\": 14,\n        \"samples\": [\n          56,\n          58,\n          23\n        ],\n        \"semantic_type\": \"\",\n        \"description\": \"\"\n      }\n    },\n    {\n      \"column\": \"%fat\",\n      \"properties\": {\n        \"dtype\": \"number\",\n        \"std\": 9.327205621507566,\n        \"min\": 7.8,\n        \"max\": 42.5,\n        \"num_unique_values\": 18,\n        \"samples\": [\n          9.5,\n          26.5,\n          34.2\n        ],\n        \"semantic_type\": \"\",\n        \"description\": \"\"\n      }\n    }\n  ]\n}"
            }
          },
          "metadata": {},
          "execution_count": 115
        }
      ]
    },
    {
      "cell_type": "code",
      "source": [
        "mean_age2 = data_df2['age'].astype(float).mean()\n",
        "median_age2 = data_df2['age'].astype(float).median()\n",
        "varience_age2 = data_df2['age'].var()\n",
        "SD_age2 = data_df2['age'].std()\n",
        "\n",
        "print(f'Mean Age: {mean_age2}')\n",
        "print(f'Median Age: {median_age2}')\n",
        "print(f'Varience Age: {varience_age2}')\n",
        "print(f'Standard Deviation Age: {SD_age2}')"
      ],
      "metadata": {
        "colab": {
          "base_uri": "https://localhost:8080/"
        },
        "id": "XWbKBcxTZ6mQ",
        "outputId": "c9d88ab2-6261-4fc1-9143-66ff0a6f1ac4"
      },
      "execution_count": 116,
      "outputs": [
        {
          "output_type": "stream",
          "name": "stdout",
          "text": [
            "Mean Age: 46.44444444444444\n",
            "Median Age: 51.0\n",
            "Varience Age: 174.73202614379082\n",
            "Standard Deviation Age: 13.218624215242327\n"
          ]
        }
      ]
    },
    {
      "cell_type": "code",
      "source": [
        "mean_fat2 = data_df2['%fat'].astype(float).mean()\n",
        "median_fat2 = data_df2['%fat'].astype(float).median()\n",
        "varience_fat2 = data_df2['%fat'].var()\n",
        "SD_fat2 = data_df2['%fat'].std()\n",
        "\n",
        "print(f'Mean %Fat: {mean_fat2}')\n",
        "print(f'Median %Fat: {median_fat2}')\n",
        "print(f'Varience %Fat: {varience_fat2}')\n",
        "print(f'Standard Deviation %Fat: {SD_fat2}')"
      ],
      "metadata": {
        "colab": {
          "base_uri": "https://localhost:8080/"
        },
        "id": "d6GkSXP-aWAQ",
        "outputId": "55e33a9c-fa3b-4528-83fe-a242015cc3f3"
      },
      "execution_count": 117,
      "outputs": [
        {
          "output_type": "stream",
          "name": "stdout",
          "text": [
            "Mean %Fat: 28.950000000000003\n",
            "Median %Fat: 30.799999999999997\n",
            "Varience %Fat: 86.99676470588236\n",
            "Standard Deviation %Fat: 9.327205621507566\n"
          ]
        }
      ]
    },
    {
      "cell_type": "markdown",
      "source": [
        "# Box plot for Age"
      ],
      "metadata": {
        "id": "HtfU4LUFbvsv"
      }
    },
    {
      "cell_type": "code",
      "source": [
        "Q1_2_for_age = data_df2['age'].quantile(0.25)\n",
        "Q2_2_for_age = data_df2['age'].quantile(0.5)\n",
        "Q3_2_for_age = data_df2['age'].quantile(0.75)\n",
        "\n",
        "print(f'Q1 for Age: {Q1_2_for_age}')\n",
        "print(f'Q2 for Age: {Q2_2_for_age}')\n",
        "print(f'Q3 for Age: {Q3_2_for_age}')"
      ],
      "metadata": {
        "colab": {
          "base_uri": "https://localhost:8080/"
        },
        "id": "cf1NC4BRbPNm",
        "outputId": "dd194a64-47ab-4be8-bcd1-6229d9b87240"
      },
      "execution_count": 121,
      "outputs": [
        {
          "output_type": "stream",
          "name": "stdout",
          "text": [
            "Q1 for Age: 39.5\n",
            "Q2 for Age: 51.0\n",
            "Q3 for Age: 56.75\n"
          ]
        }
      ]
    },
    {
      "cell_type": "code",
      "source": [
        "plt.boxplot(data_df2['age'])\n",
        "plt.ylabel(\"Age\")\n",
        "plt.text(1.2, Q1_2_for_age+1, f\"Q1 = {Q1_2_for_age}\", ha='center', va='top', color='red')\n",
        "plt.text(1.2, Q2_2_for_age+1, f\"Q2 = {Q2_2_for_age}\", ha='center', va='top', color='blue')\n",
        "plt.text(1.2, Q3_2_for_age+1, f\"Q3 = {Q3_2_for_age}\", ha='center', va='top', color='green')\n",
        "plt.show()\n"
      ],
      "metadata": {
        "colab": {
          "base_uri": "https://localhost:8080/",
          "height": 430
        },
        "id": "eYsWa06bcJur",
        "outputId": "382cca1a-1fe9-4630-c0f8-cd763cc18a3a"
      },
      "execution_count": 124,
      "outputs": [
        {
          "output_type": "display_data",
          "data": {
            "text/plain": [
              "<Figure size 640x480 with 1 Axes>"
            ],
            "image/png": "[encoded data removed]"
          },
          "metadata": {}
        }
      ]
    },
    {
      "cell_type": "markdown",
      "source": [
        "# Box plot for %fat"
      ],
      "metadata": {
        "id": "cYc0JYWfc07H"
      }
    },
    {
      "cell_type": "code",
      "source": [
        "Q1_2_for_perc_fat = data_df2['%fat'].quantile(0.25)\n",
        "Q2_2_for_perc_fat = data_df2['%fat'].quantile(0.5)\n",
        "Q3_2_for_perc_fat = data_df2['%fat'].quantile(0.75)\n",
        "\n",
        "print(f'Q1 for %Fat: {Q1_2_for_perc_fat }')\n",
        "print(f'Q2 for %Fat: {Q2_2_for_perc_fat }')\n",
        "print(f'Q3 for %Fat: {Q3_2_for_perc_fat }')"
      ],
      "metadata": {
        "colab": {
          "base_uri": "https://localhost:8080/"
        },
        "id": "8EEVFjjUcrPg",
        "outputId": "d9f3f6a7-3a93-4ace-e04d-a40a2248b95b"
      },
      "execution_count": 126,
      "outputs": [
        {
          "output_type": "stream",
          "name": "stdout",
          "text": [
            "Q1 for %Fat: 26.675\n",
            "Q2 for %Fat: 30.799999999999997\n",
            "Q3 for %Fat: 34.175000000000004\n"
          ]
        }
      ]
    },
    {
      "cell_type": "code",
      "source": [
        "plt.boxplot(data_df2['%fat'])\n",
        "plt.ylabel(\"%Fat\")\n",
        "plt.text(1.3, Q1_2_for_perc_fat+1, f\"Q1 = {Q1_2_for_perc_fat}\", ha='center', va='top', color='red')\n",
        "plt.text(1.3, Q2_2_for_perc_fat+1, f\"Q2 = {Q2_2_for_perc_fat}\", ha='center', va='top', color='blue')\n",
        "plt.text(1.3, Q3_2_for_perc_fat+1, f\"Q3 = {Q3_2_for_perc_fat}\", ha='center', va='top', color='green')\n",
        "plt.show()\n"
      ],
      "metadata": {
        "colab": {
          "base_uri": "https://localhost:8080/",
          "height": 430
        },
        "id": "4hpfhtaqdQ1h",
        "outputId": "099c65be-3179-4808-b618-547b47464f7f"
      },
      "execution_count": 132,
      "outputs": [
        {
          "output_type": "display_data",
          "data": {
            "text/plain": [
              "<Figure size 640x480 with 1 Axes>"
            ],
            "image/png": "[encoded data removed]"
          },
          "metadata": {}
        }
      ]
    },
    {
      "cell_type": "markdown",
      "source": [
        "# Scatter plot for Data"
      ],
      "metadata": {
        "id": "QmqGa40oeFi-"
      }
    },
    {
      "cell_type": "code",
      "source": [
        "plt.scatter(data_df2['age'], data_df2['%fat'])\n",
        "plt.xlabel(\"Age\")\n",
        "plt.ylabel(\"%Fat\")\n",
        "plt.show()"
      ],
      "metadata": {
        "colab": {
          "base_uri": "https://localhost:8080/",
          "height": 449
        },
        "id": "UXnhj3kvdjmX",
        "outputId": "a5a8cc22-3d79-449f-c326-12912047f9f8"
      },
      "execution_count": 134,
      "outputs": [
        {
          "output_type": "display_data",
          "data": {
            "text/plain": [
              "<Figure size 640x480 with 1 Axes>"
            ],
            "image/png": "[encoded data removed]"
          },
          "metadata": {}
        }
      ]
    },
    {
      "cell_type": "markdown",
      "source": [
        "# Pearson Correlation"
      ],
      "metadata": {
        "id": "dxKN9Z-Ve1J8"
      }
    },
    {
      "cell_type": "code",
      "source": [
        "#Calculating Pearson Correlation\n",
        "corr_age_fat = data_df2['age'].corr(data_df2['%fat'])\n",
        "corr_age_fat"
      ],
      "metadata": {
        "colab": {
          "base_uri": "https://localhost:8080/"
        },
        "id": "74xLoEagd9YD",
        "outputId": "af547844-6956-4ca8-d4ce-30bcbc9f628d"
      },
      "execution_count": 152,
      "outputs": [
        {
          "output_type": "execute_result",
          "data": {
            "text/plain": [
              "0.8163253452465513"
            ]
          },
          "metadata": {},
          "execution_count": 152
        }
      ]
    },
    {
      "cell_type": "code",
      "source": [
        "data_df2['age'] = data_df2['age'].astype(float)\n",
        "data_df2['%fat'] = data_df2['%fat'].astype(float)"
      ],
      "metadata": {
        "id": "UCRZDvGAjDxs"
      },
      "execution_count": 162,
      "outputs": []
    },
    {
      "cell_type": "code",
      "source": [
        "X = []\n",
        "Y = []\n",
        "\n",
        "for idx, row in data_df2.iterrows():\n",
        "    X.append(row['age'] - mean_age2)\n",
        "    Y.append(row['%fat'] - mean_fat2)"
      ],
      "metadata": {
        "id": "ODmDE_NPe9gz"
      },
      "execution_count": 158,
      "outputs": []
    },
    {
      "cell_type": "code",
      "source": [
        "numerator_for_pearson = np.multiply(X, Y)"
      ],
      "metadata": {
        "id": "AUcbepa1fne5"
      },
      "execution_count": 169,
      "outputs": []
    },
    {
      "cell_type": "code",
      "source": [
        "denominator_for_pearson = np.sqrt(np.sum(np.square(X))) * np.sqrt(np.sum(np.square(Y)))"
      ],
      "metadata": {
        "id": "zcMMIzvhjXW8"
      },
      "execution_count": 171,
      "outputs": []
    },
    {
      "cell_type": "code",
      "source": [
        "pearson_corr = np.sum(numerator_for_pearson) / denominator_for_pearson\n",
        "pearson_corr"
      ],
      "metadata": {
        "colab": {
          "base_uri": "https://localhost:8080/"
        },
        "id": "bIoZqHfhfnUg",
        "outputId": "8f820d96-1d48-43db-b0c7-44ee7dbd3d56"
      },
      "execution_count": 172,
      "outputs": [
        {
          "output_type": "execute_result",
          "data": {
            "text/plain": [
              "0.8163253452465512"
            ]
          },
          "metadata": {},
          "execution_count": 172
        }
      ]
    },
    {
      "cell_type": "markdown",
      "source": [
        "# Spearman Correlation"
      ],
      "metadata": {
        "id": "fIKnWkOHe37y"
      }
    },
    {
      "cell_type": "code",
      "source": [
        "#Calculating Spearman Correlation\n",
        "corr_age_fat_spearman = data_df2['age'].corr(data_df2['%fat'], method='spearman')\n",
        "corr_age_fat_spearman"
      ],
      "metadata": {
        "colab": {
          "base_uri": "https://localhost:8080/"
        },
        "id": "aIs57Litesup",
        "outputId": "43292f2f-0b70-4f77-9b12-ee7b94ce160b"
      },
      "execution_count": 136,
      "outputs": [
        {
          "output_type": "execute_result",
          "data": {
            "text/plain": [
              "0.7797327949181923"
            ]
          },
          "metadata": {},
          "execution_count": 136
        }
      ]
    },
    {
      "cell_type": "code",
      "source": [
        "age_rank = data_df2['age'].rank()\n",
        "perc_fat_rank = data_df2['%fat'].rank()"
      ],
      "metadata": {
        "id": "FpvfRIO_kyR9"
      },
      "execution_count": 174,
      "outputs": []
    },
    {
      "cell_type": "code",
      "source": [
        "differences_spearman = np.subtract(age_rank, perc_fat_rank)"
      ],
      "metadata": {
        "id": "mt4df1zYeyGz"
      },
      "execution_count": 175,
      "outputs": []
    },
    {
      "cell_type": "code",
      "source": [
        "n = len(data_df2)\n",
        "n"
      ],
      "metadata": {
        "colab": {
          "base_uri": "https://localhost:8080/"
        },
        "id": "EJ2IyzQamNJA",
        "outputId": "cceacd58-81b8-4911-a7d5-4a708c080c8d"
      },
      "execution_count": 177,
      "outputs": [
        {
          "output_type": "execute_result",
          "data": {
            "text/plain": [
              "18"
            ]
          },
          "metadata": {},
          "execution_count": 177
        }
      ]
    },
    {
      "cell_type": "code",
      "source": [
        "spearman_corr = 1 - (6 * np.sum(np.square(differences_spearman))) / (n * (n**2 - 1))\n",
        "spearman_corr"
      ],
      "metadata": {
        "colab": {
          "base_uri": "https://localhost:8080/"
        },
        "id": "t2BiXNdxmDSj",
        "outputId": "e89ae66b-38c5-48ec-939c-13180366b9f3"
      },
      "execution_count": 178,
      "outputs": [
        {
          "output_type": "execute_result",
          "data": {
            "text/plain": [
              "0.7801857585139319"
            ]
          },
          "metadata": {},
          "execution_count": 178
        }
      ]
    }
  ],
  "metadata": {
    "kernelspec": {
      "display_name": "base",
      "language": "python",
      "name": "python3"
    },
    "language_info": {
      "codemirror_mode": {
        "name": "ipython",
        "version": 3
      },
      "file_extension": ".py",
      "mimetype": "text/x-python",
      "name": "python",
      "nbconvert_exporter": "python",
      "pygments_lexer": "ipython3",
      "version": "3.12.2"
    },
    "colab": {
      "provenance": []
    }
  },
  "nbformat": 4,
  "nbformat_minor": 0
}